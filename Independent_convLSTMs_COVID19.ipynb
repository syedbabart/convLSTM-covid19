{
  "nbformat": 4,
  "nbformat_minor": 0,
  "metadata": {
    "colab": {
      "name": "Independent-convLSTMs-COVID19.ipynb",
      "provenance": [],
      "collapsed_sections": [],
      "authorship_tag": "ABX9TyPNybsF8WNHR5yCNge4qTXy",
      "include_colab_link": true
    },
    "kernelspec": {
      "name": "python3",
      "display_name": "Python 3"
    },
    "accelerator": "GPU"
  },
  "cells": [
    {
      "cell_type": "markdown",
      "metadata": {
        "id": "view-in-github",
        "colab_type": "text"
      },
      "source": [
        "<a href=\"https://colab.research.google.com/github/syedbabart/convLSTM-covid19/blob/master/Independent_convLSTMs_COVID19.ipynb\" target=\"_parent\"><img src=\"https://colab.research.google.com/assets/colab-badge.svg\" alt=\"Open In Colab\"/></a>"
      ]
    },
    {
      "cell_type": "code",
      "metadata": {
        "id": "59I8k89R5XQT"
      },
      "source": [
        "from numpy import array\n",
        "from numpy import hstack\n",
        "from keras.models import Sequential\n",
        "from keras.layers import LSTM\n",
        "from keras.layers import Dense\n",
        "from keras.layers import Flatten\n",
        "from keras.layers import TimeDistributed\n",
        "from keras.layers import Input\n",
        "from keras.models import Model\n",
        "from keras.layers.merge import concatenate\n",
        "from keras.layers.convolutional import Conv1D\n",
        "from keras.layers.convolutional import MaxPooling1D\n",
        "import pandas as pd\n",
        "import matplotlib.pyplot as plt"
      ],
      "execution_count": 1,
      "outputs": []
    },
    {
      "cell_type": "code",
      "metadata": {
        "id": "6azNI6Nfbd1n"
      },
      "source": [
        "df = pd.read_excel(r'/new_cases_Pakistan.xlsx')\n",
        "df_deaths = pd.read_excel(r'/new_deaths_Pakistan.xlsx')"
      ],
      "execution_count": 2,
      "outputs": []
    },
    {
      "cell_type": "code",
      "metadata": {
        "id": "iX6I4KTkdOUn",
        "colab": {
          "base_uri": "https://localhost:8080/",
          "height": 228
        },
        "outputId": "333d8205-55bd-41e7-d5a8-d4c499837321"
      },
      "source": [
        "df.T"
      ],
      "execution_count": 3,
      "outputs": [
        {
          "output_type": "execute_result",
          "data": {
            "text/html": [
              "<div>\n",
              "<style scoped>\n",
              "    .dataframe tbody tr th:only-of-type {\n",
              "        vertical-align: middle;\n",
              "    }\n",
              "\n",
              "    .dataframe tbody tr th {\n",
              "        vertical-align: top;\n",
              "    }\n",
              "\n",
              "    .dataframe thead th {\n",
              "        text-align: right;\n",
              "    }\n",
              "</style>\n",
              "<table border=\"1\" class=\"dataframe\">\n",
              "  <thead>\n",
              "    <tr style=\"text-align: right;\">\n",
              "      <th></th>\n",
              "      <th>0</th>\n",
              "      <th>1</th>\n",
              "      <th>2</th>\n",
              "      <th>3</th>\n",
              "      <th>4</th>\n",
              "      <th>5</th>\n",
              "      <th>6</th>\n",
              "      <th>7</th>\n",
              "      <th>8</th>\n",
              "      <th>9</th>\n",
              "      <th>10</th>\n",
              "      <th>11</th>\n",
              "      <th>12</th>\n",
              "      <th>13</th>\n",
              "      <th>14</th>\n",
              "      <th>15</th>\n",
              "      <th>16</th>\n",
              "      <th>17</th>\n",
              "      <th>18</th>\n",
              "      <th>19</th>\n",
              "      <th>20</th>\n",
              "      <th>21</th>\n",
              "      <th>22</th>\n",
              "      <th>23</th>\n",
              "      <th>24</th>\n",
              "      <th>25</th>\n",
              "      <th>26</th>\n",
              "      <th>27</th>\n",
              "      <th>28</th>\n",
              "      <th>29</th>\n",
              "      <th>30</th>\n",
              "      <th>31</th>\n",
              "      <th>32</th>\n",
              "      <th>33</th>\n",
              "      <th>34</th>\n",
              "      <th>35</th>\n",
              "      <th>36</th>\n",
              "      <th>37</th>\n",
              "      <th>38</th>\n",
              "      <th>39</th>\n",
              "      <th>...</th>\n",
              "      <th>205</th>\n",
              "      <th>206</th>\n",
              "      <th>207</th>\n",
              "      <th>208</th>\n",
              "      <th>209</th>\n",
              "      <th>210</th>\n",
              "      <th>211</th>\n",
              "      <th>212</th>\n",
              "      <th>213</th>\n",
              "      <th>214</th>\n",
              "      <th>215</th>\n",
              "      <th>216</th>\n",
              "      <th>217</th>\n",
              "      <th>218</th>\n",
              "      <th>219</th>\n",
              "      <th>220</th>\n",
              "      <th>221</th>\n",
              "      <th>222</th>\n",
              "      <th>223</th>\n",
              "      <th>224</th>\n",
              "      <th>225</th>\n",
              "      <th>226</th>\n",
              "      <th>227</th>\n",
              "      <th>228</th>\n",
              "      <th>229</th>\n",
              "      <th>230</th>\n",
              "      <th>231</th>\n",
              "      <th>232</th>\n",
              "      <th>233</th>\n",
              "      <th>234</th>\n",
              "      <th>235</th>\n",
              "      <th>236</th>\n",
              "      <th>237</th>\n",
              "      <th>238</th>\n",
              "      <th>239</th>\n",
              "      <th>240</th>\n",
              "      <th>241</th>\n",
              "      <th>242</th>\n",
              "      <th>243</th>\n",
              "      <th>244</th>\n",
              "    </tr>\n",
              "  </thead>\n",
              "  <tbody>\n",
              "    <tr>\n",
              "      <th>date</th>\n",
              "      <td>2019-12-31 00:00:00</td>\n",
              "      <td>2020-01-01 00:00:00</td>\n",
              "      <td>2020-01-02 00:00:00</td>\n",
              "      <td>2020-01-03 00:00:00</td>\n",
              "      <td>2020-01-04 00:00:00</td>\n",
              "      <td>2020-01-05 00:00:00</td>\n",
              "      <td>2020-01-06 00:00:00</td>\n",
              "      <td>2020-01-07 00:00:00</td>\n",
              "      <td>2020-01-08 00:00:00</td>\n",
              "      <td>2020-01-09 00:00:00</td>\n",
              "      <td>2020-01-10 00:00:00</td>\n",
              "      <td>2020-01-11 00:00:00</td>\n",
              "      <td>2020-01-12 00:00:00</td>\n",
              "      <td>2020-01-13 00:00:00</td>\n",
              "      <td>2020-01-14 00:00:00</td>\n",
              "      <td>2020-01-15 00:00:00</td>\n",
              "      <td>2020-01-16 00:00:00</td>\n",
              "      <td>2020-01-17 00:00:00</td>\n",
              "      <td>2020-01-18 00:00:00</td>\n",
              "      <td>2020-01-19 00:00:00</td>\n",
              "      <td>2020-01-20 00:00:00</td>\n",
              "      <td>2020-01-21 00:00:00</td>\n",
              "      <td>2020-01-22 00:00:00</td>\n",
              "      <td>2020-01-23 00:00:00</td>\n",
              "      <td>2020-01-24 00:00:00</td>\n",
              "      <td>2020-01-25 00:00:00</td>\n",
              "      <td>2020-01-26 00:00:00</td>\n",
              "      <td>2020-01-27 00:00:00</td>\n",
              "      <td>2020-01-28 00:00:00</td>\n",
              "      <td>2020-01-29 00:00:00</td>\n",
              "      <td>2020-01-30 00:00:00</td>\n",
              "      <td>2020-01-31 00:00:00</td>\n",
              "      <td>2020-02-01 00:00:00</td>\n",
              "      <td>2020-02-02 00:00:00</td>\n",
              "      <td>2020-02-03 00:00:00</td>\n",
              "      <td>2020-02-04 00:00:00</td>\n",
              "      <td>2020-02-05 00:00:00</td>\n",
              "      <td>2020-02-06 00:00:00</td>\n",
              "      <td>2020-02-07 00:00:00</td>\n",
              "      <td>2020-02-08 00:00:00</td>\n",
              "      <td>...</td>\n",
              "      <td>2020-07-23 00:00:00</td>\n",
              "      <td>2020-07-24 00:00:00</td>\n",
              "      <td>2020-07-25 00:00:00</td>\n",
              "      <td>2020-07-26 00:00:00</td>\n",
              "      <td>2020-07-27 00:00:00</td>\n",
              "      <td>2020-07-28 00:00:00</td>\n",
              "      <td>2020-07-29 00:00:00</td>\n",
              "      <td>2020-07-30 00:00:00</td>\n",
              "      <td>2020-07-31 00:00:00</td>\n",
              "      <td>2020-08-01 00:00:00</td>\n",
              "      <td>2020-08-02 00:00:00</td>\n",
              "      <td>2020-08-03 00:00:00</td>\n",
              "      <td>2020-08-04 00:00:00</td>\n",
              "      <td>2020-08-05 00:00:00</td>\n",
              "      <td>2020-08-06 00:00:00</td>\n",
              "      <td>2020-08-07 00:00:00</td>\n",
              "      <td>2020-08-08 00:00:00</td>\n",
              "      <td>2020-08-09 00:00:00</td>\n",
              "      <td>2020-08-10 00:00:00</td>\n",
              "      <td>2020-08-11 00:00:00</td>\n",
              "      <td>2020-08-12 00:00:00</td>\n",
              "      <td>2020-08-13 00:00:00</td>\n",
              "      <td>2020-08-14 00:00:00</td>\n",
              "      <td>2020-08-15 00:00:00</td>\n",
              "      <td>2020-08-16 00:00:00</td>\n",
              "      <td>2020-08-17 00:00:00</td>\n",
              "      <td>2020-08-18 00:00:00</td>\n",
              "      <td>2020-08-19 00:00:00</td>\n",
              "      <td>2020-08-20 00:00:00</td>\n",
              "      <td>2020-08-21 00:00:00</td>\n",
              "      <td>2020-08-22 00:00:00</td>\n",
              "      <td>2020-08-23 00:00:00</td>\n",
              "      <td>2020-08-24 00:00:00</td>\n",
              "      <td>2020-08-25 00:00:00</td>\n",
              "      <td>2020-08-26 00:00:00</td>\n",
              "      <td>2020-08-27 00:00:00</td>\n",
              "      <td>2020-08-28 00:00:00</td>\n",
              "      <td>2020-08-29 00:00:00</td>\n",
              "      <td>2020-08-30 00:00:00</td>\n",
              "      <td>2020-08-31 00:00:00</td>\n",
              "    </tr>\n",
              "    <tr>\n",
              "      <th>New Cases in Pakistan</th>\n",
              "      <td>0</td>\n",
              "      <td>0</td>\n",
              "      <td>0</td>\n",
              "      <td>0</td>\n",
              "      <td>0</td>\n",
              "      <td>0</td>\n",
              "      <td>0</td>\n",
              "      <td>0</td>\n",
              "      <td>0</td>\n",
              "      <td>0</td>\n",
              "      <td>0</td>\n",
              "      <td>0</td>\n",
              "      <td>0</td>\n",
              "      <td>0</td>\n",
              "      <td>0</td>\n",
              "      <td>0</td>\n",
              "      <td>0</td>\n",
              "      <td>0</td>\n",
              "      <td>0</td>\n",
              "      <td>0</td>\n",
              "      <td>0</td>\n",
              "      <td>0</td>\n",
              "      <td>0</td>\n",
              "      <td>0</td>\n",
              "      <td>0</td>\n",
              "      <td>0</td>\n",
              "      <td>0</td>\n",
              "      <td>0</td>\n",
              "      <td>0</td>\n",
              "      <td>0</td>\n",
              "      <td>0</td>\n",
              "      <td>0</td>\n",
              "      <td>0</td>\n",
              "      <td>0</td>\n",
              "      <td>0</td>\n",
              "      <td>0</td>\n",
              "      <td>0</td>\n",
              "      <td>0</td>\n",
              "      <td>0</td>\n",
              "      <td>0</td>\n",
              "      <td>...</td>\n",
              "      <td>1763</td>\n",
              "      <td>1209</td>\n",
              "      <td>1487</td>\n",
              "      <td>1226</td>\n",
              "      <td>1176</td>\n",
              "      <td>936</td>\n",
              "      <td>1063</td>\n",
              "      <td>1114</td>\n",
              "      <td>903</td>\n",
              "      <td>0</td>\n",
              "      <td>0</td>\n",
              "      <td>1724</td>\n",
              "      <td>432</td>\n",
              "      <td>675</td>\n",
              "      <td>727</td>\n",
              "      <td>782</td>\n",
              "      <td>842</td>\n",
              "      <td>634</td>\n",
              "      <td>539</td>\n",
              "      <td>531</td>\n",
              "      <td>730</td>\n",
              "      <td>753</td>\n",
              "      <td>626</td>\n",
              "      <td>747</td>\n",
              "      <td>670</td>\n",
              "      <td>498</td>\n",
              "      <td>617</td>\n",
              "      <td>0</td>\n",
              "      <td>1126</td>\n",
              "      <td>630</td>\n",
              "      <td>586</td>\n",
              "      <td>591</td>\n",
              "      <td>0</td>\n",
              "      <td>946</td>\n",
              "      <td>482</td>\n",
              "      <td>445</td>\n",
              "      <td>415</td>\n",
              "      <td>319</td>\n",
              "      <td>264</td>\n",
              "      <td>213</td>\n",
              "    </tr>\n",
              "  </tbody>\n",
              "</table>\n",
              "<p>2 rows × 245 columns</p>\n",
              "</div>"
            ],
            "text/plain": [
              "                                       0    ...                  244\n",
              "date                   2019-12-31 00:00:00  ...  2020-08-31 00:00:00\n",
              "New Cases in Pakistan                    0  ...                  213\n",
              "\n",
              "[2 rows x 245 columns]"
            ]
          },
          "metadata": {
            "tags": []
          },
          "execution_count": 3
        }
      ]
    },
    {
      "cell_type": "code",
      "metadata": {
        "id": "k-HkXIg2Cta6",
        "colab": {
          "base_uri": "https://localhost:8080/",
          "height": 194
        },
        "outputId": "c2005d98-0267-4b3e-b8d4-1b18dce58a84"
      },
      "source": [
        "df_deaths.T"
      ],
      "execution_count": 4,
      "outputs": [
        {
          "output_type": "execute_result",
          "data": {
            "text/html": [
              "<div>\n",
              "<style scoped>\n",
              "    .dataframe tbody tr th:only-of-type {\n",
              "        vertical-align: middle;\n",
              "    }\n",
              "\n",
              "    .dataframe tbody tr th {\n",
              "        vertical-align: top;\n",
              "    }\n",
              "\n",
              "    .dataframe thead th {\n",
              "        text-align: right;\n",
              "    }\n",
              "</style>\n",
              "<table border=\"1\" class=\"dataframe\">\n",
              "  <thead>\n",
              "    <tr style=\"text-align: right;\">\n",
              "      <th></th>\n",
              "      <th>0</th>\n",
              "      <th>1</th>\n",
              "      <th>2</th>\n",
              "      <th>3</th>\n",
              "      <th>4</th>\n",
              "      <th>5</th>\n",
              "      <th>6</th>\n",
              "      <th>7</th>\n",
              "      <th>8</th>\n",
              "      <th>9</th>\n",
              "      <th>10</th>\n",
              "      <th>11</th>\n",
              "      <th>12</th>\n",
              "      <th>13</th>\n",
              "      <th>14</th>\n",
              "      <th>15</th>\n",
              "      <th>16</th>\n",
              "      <th>17</th>\n",
              "      <th>18</th>\n",
              "      <th>19</th>\n",
              "      <th>20</th>\n",
              "      <th>21</th>\n",
              "      <th>22</th>\n",
              "      <th>23</th>\n",
              "      <th>24</th>\n",
              "      <th>25</th>\n",
              "      <th>26</th>\n",
              "      <th>27</th>\n",
              "      <th>28</th>\n",
              "      <th>29</th>\n",
              "      <th>30</th>\n",
              "      <th>31</th>\n",
              "      <th>32</th>\n",
              "      <th>33</th>\n",
              "      <th>34</th>\n",
              "      <th>35</th>\n",
              "      <th>36</th>\n",
              "      <th>37</th>\n",
              "      <th>38</th>\n",
              "      <th>39</th>\n",
              "      <th>...</th>\n",
              "      <th>205</th>\n",
              "      <th>206</th>\n",
              "      <th>207</th>\n",
              "      <th>208</th>\n",
              "      <th>209</th>\n",
              "      <th>210</th>\n",
              "      <th>211</th>\n",
              "      <th>212</th>\n",
              "      <th>213</th>\n",
              "      <th>214</th>\n",
              "      <th>215</th>\n",
              "      <th>216</th>\n",
              "      <th>217</th>\n",
              "      <th>218</th>\n",
              "      <th>219</th>\n",
              "      <th>220</th>\n",
              "      <th>221</th>\n",
              "      <th>222</th>\n",
              "      <th>223</th>\n",
              "      <th>224</th>\n",
              "      <th>225</th>\n",
              "      <th>226</th>\n",
              "      <th>227</th>\n",
              "      <th>228</th>\n",
              "      <th>229</th>\n",
              "      <th>230</th>\n",
              "      <th>231</th>\n",
              "      <th>232</th>\n",
              "      <th>233</th>\n",
              "      <th>234</th>\n",
              "      <th>235</th>\n",
              "      <th>236</th>\n",
              "      <th>237</th>\n",
              "      <th>238</th>\n",
              "      <th>239</th>\n",
              "      <th>240</th>\n",
              "      <th>241</th>\n",
              "      <th>242</th>\n",
              "      <th>243</th>\n",
              "      <th>244</th>\n",
              "    </tr>\n",
              "  </thead>\n",
              "  <tbody>\n",
              "    <tr>\n",
              "      <th>date</th>\n",
              "      <td>2019-12-31 00:00:00</td>\n",
              "      <td>2020-01-01 00:00:00</td>\n",
              "      <td>2020-01-02 00:00:00</td>\n",
              "      <td>2020-01-03 00:00:00</td>\n",
              "      <td>2020-01-04 00:00:00</td>\n",
              "      <td>2020-01-05 00:00:00</td>\n",
              "      <td>2020-01-06 00:00:00</td>\n",
              "      <td>2020-01-07 00:00:00</td>\n",
              "      <td>2020-01-08 00:00:00</td>\n",
              "      <td>2020-01-09 00:00:00</td>\n",
              "      <td>2020-01-10 00:00:00</td>\n",
              "      <td>2020-01-11 00:00:00</td>\n",
              "      <td>2020-01-12 00:00:00</td>\n",
              "      <td>2020-01-13 00:00:00</td>\n",
              "      <td>2020-01-14 00:00:00</td>\n",
              "      <td>2020-01-15 00:00:00</td>\n",
              "      <td>2020-01-16 00:00:00</td>\n",
              "      <td>2020-01-17 00:00:00</td>\n",
              "      <td>2020-01-18 00:00:00</td>\n",
              "      <td>2020-01-19 00:00:00</td>\n",
              "      <td>2020-01-20 00:00:00</td>\n",
              "      <td>2020-01-21 00:00:00</td>\n",
              "      <td>2020-01-22 00:00:00</td>\n",
              "      <td>2020-01-23 00:00:00</td>\n",
              "      <td>2020-01-24 00:00:00</td>\n",
              "      <td>2020-01-25 00:00:00</td>\n",
              "      <td>2020-01-26 00:00:00</td>\n",
              "      <td>2020-01-27 00:00:00</td>\n",
              "      <td>2020-01-28 00:00:00</td>\n",
              "      <td>2020-01-29 00:00:00</td>\n",
              "      <td>2020-01-30 00:00:00</td>\n",
              "      <td>2020-01-31 00:00:00</td>\n",
              "      <td>2020-02-01 00:00:00</td>\n",
              "      <td>2020-02-02 00:00:00</td>\n",
              "      <td>2020-02-03 00:00:00</td>\n",
              "      <td>2020-02-04 00:00:00</td>\n",
              "      <td>2020-02-05 00:00:00</td>\n",
              "      <td>2020-02-06 00:00:00</td>\n",
              "      <td>2020-02-07 00:00:00</td>\n",
              "      <td>2020-02-08 00:00:00</td>\n",
              "      <td>...</td>\n",
              "      <td>2020-07-23 00:00:00</td>\n",
              "      <td>2020-07-24 00:00:00</td>\n",
              "      <td>2020-07-25 00:00:00</td>\n",
              "      <td>2020-07-26 00:00:00</td>\n",
              "      <td>2020-07-27 00:00:00</td>\n",
              "      <td>2020-07-28 00:00:00</td>\n",
              "      <td>2020-07-29 00:00:00</td>\n",
              "      <td>2020-07-30 00:00:00</td>\n",
              "      <td>2020-07-31 00:00:00</td>\n",
              "      <td>2020-08-01 00:00:00</td>\n",
              "      <td>2020-08-02 00:00:00</td>\n",
              "      <td>2020-08-03 00:00:00</td>\n",
              "      <td>2020-08-04 00:00:00</td>\n",
              "      <td>2020-08-05 00:00:00</td>\n",
              "      <td>2020-08-06 00:00:00</td>\n",
              "      <td>2020-08-07 00:00:00</td>\n",
              "      <td>2020-08-08 00:00:00</td>\n",
              "      <td>2020-08-09 00:00:00</td>\n",
              "      <td>2020-08-10 00:00:00</td>\n",
              "      <td>2020-08-11 00:00:00</td>\n",
              "      <td>2020-08-12 00:00:00</td>\n",
              "      <td>2020-08-13 00:00:00</td>\n",
              "      <td>2020-08-14 00:00:00</td>\n",
              "      <td>2020-08-15 00:00:00</td>\n",
              "      <td>2020-08-16 00:00:00</td>\n",
              "      <td>2020-08-17 00:00:00</td>\n",
              "      <td>2020-08-18 00:00:00</td>\n",
              "      <td>2020-08-19 00:00:00</td>\n",
              "      <td>2020-08-20 00:00:00</td>\n",
              "      <td>2020-08-21 00:00:00</td>\n",
              "      <td>2020-08-22 00:00:00</td>\n",
              "      <td>2020-08-23 00:00:00</td>\n",
              "      <td>2020-08-24 00:00:00</td>\n",
              "      <td>2020-08-25 00:00:00</td>\n",
              "      <td>2020-08-26 00:00:00</td>\n",
              "      <td>2020-08-27 00:00:00</td>\n",
              "      <td>2020-08-28 00:00:00</td>\n",
              "      <td>2020-08-29 00:00:00</td>\n",
              "      <td>2020-08-30 00:00:00</td>\n",
              "      <td>2020-08-31 00:00:00</td>\n",
              "    </tr>\n",
              "    <tr>\n",
              "      <th>new_deaths_Pakistan</th>\n",
              "      <td>0</td>\n",
              "      <td>0</td>\n",
              "      <td>0</td>\n",
              "      <td>0</td>\n",
              "      <td>0</td>\n",
              "      <td>0</td>\n",
              "      <td>0</td>\n",
              "      <td>0</td>\n",
              "      <td>0</td>\n",
              "      <td>0</td>\n",
              "      <td>0</td>\n",
              "      <td>0</td>\n",
              "      <td>0</td>\n",
              "      <td>0</td>\n",
              "      <td>0</td>\n",
              "      <td>0</td>\n",
              "      <td>0</td>\n",
              "      <td>0</td>\n",
              "      <td>0</td>\n",
              "      <td>0</td>\n",
              "      <td>0</td>\n",
              "      <td>0</td>\n",
              "      <td>0</td>\n",
              "      <td>0</td>\n",
              "      <td>0</td>\n",
              "      <td>0</td>\n",
              "      <td>0</td>\n",
              "      <td>0</td>\n",
              "      <td>0</td>\n",
              "      <td>0</td>\n",
              "      <td>0</td>\n",
              "      <td>0</td>\n",
              "      <td>0</td>\n",
              "      <td>0</td>\n",
              "      <td>0</td>\n",
              "      <td>0</td>\n",
              "      <td>0</td>\n",
              "      <td>0</td>\n",
              "      <td>0</td>\n",
              "      <td>0</td>\n",
              "      <td>...</td>\n",
              "      <td>32</td>\n",
              "      <td>54</td>\n",
              "      <td>24</td>\n",
              "      <td>35</td>\n",
              "      <td>20</td>\n",
              "      <td>23</td>\n",
              "      <td>27</td>\n",
              "      <td>32</td>\n",
              "      <td>27</td>\n",
              "      <td>0</td>\n",
              "      <td>0</td>\n",
              "      <td>33</td>\n",
              "      <td>15</td>\n",
              "      <td>15</td>\n",
              "      <td>21</td>\n",
              "      <td>17</td>\n",
              "      <td>16</td>\n",
              "      <td>14</td>\n",
              "      <td>15</td>\n",
              "      <td>15</td>\n",
              "      <td>17</td>\n",
              "      <td>10</td>\n",
              "      <td>14</td>\n",
              "      <td>9</td>\n",
              "      <td>6</td>\n",
              "      <td>7</td>\n",
              "      <td>15</td>\n",
              "      <td>0</td>\n",
              "      <td>19</td>\n",
              "      <td>10</td>\n",
              "      <td>12</td>\n",
              "      <td>4</td>\n",
              "      <td>0</td>\n",
              "      <td>20</td>\n",
              "      <td>12</td>\n",
              "      <td>7</td>\n",
              "      <td>9</td>\n",
              "      <td>1</td>\n",
              "      <td>4</td>\n",
              "      <td>6</td>\n",
              "    </tr>\n",
              "  </tbody>\n",
              "</table>\n",
              "<p>2 rows × 245 columns</p>\n",
              "</div>"
            ],
            "text/plain": [
              "                                     0    ...                  244\n",
              "date                 2019-12-31 00:00:00  ...  2020-08-31 00:00:00\n",
              "new_deaths_Pakistan                    0  ...                    6\n",
              "\n",
              "[2 rows x 245 columns]"
            ]
          },
          "metadata": {
            "tags": []
          },
          "execution_count": 4
        }
      ]
    },
    {
      "cell_type": "code",
      "metadata": {
        "id": "zwsGBEQHdb5w",
        "colab": {
          "base_uri": "https://localhost:8080/"
        },
        "outputId": "b0ab8ca0-8b3b-4f28-b057-ab5ff2705e38"
      },
      "source": [
        "df.columns = ['date','new_cases_Pakistan']\n",
        "df.dropna(inplace=True)\n",
        "case_sequence = df['new_cases_Pakistan'].tolist()\n",
        "len(case_sequence)"
      ],
      "execution_count": 5,
      "outputs": [
        {
          "output_type": "execute_result",
          "data": {
            "text/plain": [
              "240"
            ]
          },
          "metadata": {
            "tags": []
          },
          "execution_count": 5
        }
      ]
    },
    {
      "cell_type": "code",
      "metadata": {
        "id": "hYWJ5hI7BMFf",
        "colab": {
          "base_uri": "https://localhost:8080/"
        },
        "outputId": "52520338-219f-41d7-e2f5-5d138ce2a716"
      },
      "source": [
        "df_deaths.columns = ['date','new_deaths_Pakistan']\n",
        "df_deaths.dropna(inplace=True)\n",
        "death_sequence=df_deaths['new_deaths_Pakistan'].tolist()\n",
        "len(death_sequence)"
      ],
      "execution_count": 6,
      "outputs": [
        {
          "output_type": "execute_result",
          "data": {
            "text/plain": [
              "240"
            ]
          },
          "metadata": {
            "tags": []
          },
          "execution_count": 6
        }
      ]
    },
    {
      "cell_type": "code",
      "metadata": {
        "id": "RRaad_oIX_26",
        "colab": {
          "base_uri": "https://localhost:8080/",
          "height": 300
        },
        "outputId": "d4a32a56-b0ba-45f3-e53d-51797a05ada9"
      },
      "source": [
        "pd.plotting.autocorrelation_plot(death_sequence)"
      ],
      "execution_count": 7,
      "outputs": [
        {
          "output_type": "execute_result",
          "data": {
            "text/plain": [
              "<matplotlib.axes._subplots.AxesSubplot at 0x7fa1d19e90f0>"
            ]
          },
          "metadata": {
            "tags": []
          },
          "execution_count": 7
        },
        {
          "output_type": "display_data",
          "data": {
            "image/png": "[encoded data removed]",
            "text/plain": [
              "<Figure size 432x288 with 1 Axes>"
            ]
          },
          "metadata": {
            "tags": [],
            "needs_background": "light"
          }
        }
      ]
    },
    {
      "cell_type": "code",
      "metadata": {
        "id": "iN3WBKnVYzYu",
        "colab": {
          "base_uri": "https://localhost:8080/",
          "height": 300
        },
        "outputId": "938adda2-0d03-4636-8685-555799b5c080"
      },
      "source": [
        "pd.plotting.autocorrelation_plot(case_sequence)"
      ],
      "execution_count": 8,
      "outputs": [
        {
          "output_type": "execute_result",
          "data": {
            "text/plain": [
              "<matplotlib.axes._subplots.AxesSubplot at 0x7fa1cf1300b8>"
            ]
          },
          "metadata": {
            "tags": []
          },
          "execution_count": 8
        },
        {
          "output_type": "display_data",
          "data": {
            "image/png": "[encoded data removed]",
            "text/plain": [
              "<Figure size 432x288 with 1 Axes>"
            ]
          },
          "metadata": {
            "tags": [],
            "needs_background": "light"
          }
        }
      ]
    },
    {
      "cell_type": "markdown",
      "metadata": {
        "id": "t50KiJ7DomEp"
      },
      "source": [
        "Auto-correlation plot suggests, high correlation among low values of the number of timesteps used to predict the value of the next time-step. Hence, a value of 4 timesteps is initially used."
      ]
    },
    {
      "cell_type": "code",
      "metadata": {
        "id": "5dGx7AFS5bjJ"
      },
      "source": [
        "def split_sequence(sequence, n_steps):\n",
        "\tX, y = list(), list()\n",
        "\tfor i in range(len(sequence)):\n",
        "\t\t# find the end of this pattern\n",
        "\t\tend_ix = i + n_steps\n",
        "\t\t# check if we are beyond the sequence\n",
        "\t\tif end_ix > len(sequence)-1:\n",
        "\t\t\tbreak\n",
        "\t\t# gather input and output parts of the pattern\n",
        "\t\tseq_x, seq_y = sequence[i:end_ix], sequence[end_ix]\n",
        "\t\tX.append(seq_x)\n",
        "\t\ty.append(seq_y)\n",
        "\treturn array(X), array(y)\n",
        " "
      ],
      "execution_count": 9,
      "outputs": []
    },
    {
      "cell_type": "code",
      "metadata": {
        "id": "WufZCNo55qrX"
      },
      "source": [
        "\n",
        "# choose a number of time steps\n",
        "n_steps = 4\n",
        "# convert into input/output\n",
        "X, y = split_sequence(case_sequence, n_steps)\n",
        "\n",
        "# reshape from [samples, timesteps] into [samples, subsequences, timesteps, features]\n",
        "n_features = 1\n",
        "n_seq = 2\n",
        "n_steps = 2\n",
        "X = X.reshape((X.shape[0], n_seq, n_steps, n_features))"
      ],
      "execution_count": 10,
      "outputs": []
    },
    {
      "cell_type": "code",
      "metadata": {
        "id": "9G1h2QIE5xV6",
        "colab": {
          "base_uri": "https://localhost:8080/"
        },
        "outputId": "5f6c2bf9-a17c-4268-b813-76bdf0633bbe"
      },
      "source": [
        "model = Sequential()\n",
        "model.add(TimeDistributed(Conv1D(filters=64, kernel_size=1, activation='relu'), input_shape=(None, n_steps, n_features)))\n",
        "model.add(TimeDistributed(MaxPooling1D(pool_size=2)))\n",
        "model.add(TimeDistributed(Flatten()))\n",
        "model.add(LSTM(50, activation='relu', return_sequences=True))\n",
        "model.add(LSTM(20, activation='relu', return_sequences=True))\n",
        "model.add(LSTM(10, activation='relu'))\n",
        "model.add(Dense(1))\n",
        "model.compile(optimizer='adam', loss='mse')"
      ],
      "execution_count": 28,
      "outputs": [
        {
          "output_type": "stream",
          "text": [
            "WARNING:tensorflow:Layer lstm_12 will not use cuDNN kernel since it doesn't meet the cuDNN kernel criteria. It will use generic GPU kernel as fallback when running on GPU\n",
            "WARNING:tensorflow:Layer lstm_13 will not use cuDNN kernel since it doesn't meet the cuDNN kernel criteria. It will use generic GPU kernel as fallback when running on GPU\n",
            "WARNING:tensorflow:Layer lstm_14 will not use cuDNN kernel since it doesn't meet the cuDNN kernel criteria. It will use generic GPU kernel as fallback when running on GPU\n"
          ],
          "name": "stdout"
        }
      ]
    },
    {
      "cell_type": "code",
      "metadata": {
        "id": "NOWxd2do519S",
        "colab": {
          "base_uri": "https://localhost:8080/"
        },
        "outputId": "95b5623c-c032-4fba-d26c-073b9ff26915"
      },
      "source": [
        "model.summary()"
      ],
      "execution_count": 29,
      "outputs": [
        {
          "output_type": "stream",
          "text": [
            "Model: \"sequential_3\"\n",
            "_________________________________________________________________\n",
            "Layer (type)                 Output Shape              Param #   \n",
            "=================================================================\n",
            "time_distributed_9 (TimeDist (None, None, 2, 64)       128       \n",
            "_________________________________________________________________\n",
            "time_distributed_10 (TimeDis (None, None, 1, 64)       0         \n",
            "_________________________________________________________________\n",
            "time_distributed_11 (TimeDis (None, None, 64)          0         \n",
            "_________________________________________________________________\n",
            "lstm_12 (LSTM)               (None, None, 50)          23000     \n",
            "_________________________________________________________________\n",
            "lstm_13 (LSTM)               (None, None, 20)          5680      \n",
            "_________________________________________________________________\n",
            "lstm_14 (LSTM)               (None, 10)                1240      \n",
            "_________________________________________________________________\n",
            "dense_4 (Dense)              (None, 1)                 11        \n",
            "=================================================================\n",
            "Total params: 30,059\n",
            "Trainable params: 30,059\n",
            "Non-trainable params: 0\n",
            "_________________________________________________________________\n"
          ],
          "name": "stdout"
        }
      ]
    },
    {
      "cell_type": "code",
      "metadata": {
        "id": "MpnpQJGZ6Cpc",
        "colab": {
          "base_uri": "https://localhost:8080/"
        },
        "outputId": "f10094f8-8f2c-4839-fa32-99438e9b78b3"
      },
      "source": [
        "# fit model\n",
        "model.fit(X, y, epochs=50, verbose=0)"
      ],
      "execution_count": 30,
      "outputs": [
        {
          "output_type": "execute_result",
          "data": {
            "text/plain": [
              "<tensorflow.python.keras.callbacks.History at 0x7fa16e5c29b0>"
            ]
          },
          "metadata": {
            "tags": []
          },
          "execution_count": 30
        }
      ]
    },
    {
      "cell_type": "code",
      "metadata": {
        "id": "dN1yZkz-6Mpr",
        "colab": {
          "base_uri": "https://localhost:8080/"
        },
        "outputId": "5b439110-7e63-4734-ef9e-bd4477c277da"
      },
      "source": [
        "# demonstrate prediction\n",
        "x_input = array([4044, 2775, 3138, 4072])\n",
        "#expected number is 3557\n",
        "x_input = x_input.reshape((1, n_seq, n_steps, n_features))\n",
        "yhat = model.predict(x_input, verbose=0)\n",
        "print(yhat)"
      ],
      "execution_count": 31,
      "outputs": [
        {
          "output_type": "stream",
          "text": [
            "[[3568.8186]]\n"
          ],
          "name": "stdout"
        }
      ]
    },
    {
      "cell_type": "code",
      "metadata": {
        "id": "vuGT8Wis6W-E"
      },
      "source": [
        "# choose a number of time steps\n",
        "n_steps = 4\n",
        "# convert into input/output\n",
        "X_deaths, y_deaths = split_sequence(death_sequence, n_steps)\n",
        "\n",
        "# reshape from [samples, timesteps] into [samples, subsequences, timesteps, features]\n",
        "n_features = 1\n",
        "n_seq = 2\n",
        "n_steps = 2\n",
        "X_deaths = X_deaths.reshape((X_deaths.shape[0], n_seq, n_steps, n_features))"
      ],
      "execution_count": 33,
      "outputs": []
    },
    {
      "cell_type": "code",
      "metadata": {
        "id": "GjtkYzeED5Oy",
        "colab": {
          "base_uri": "https://localhost:8080/"
        },
        "outputId": "9aa2d53b-0670-4a11-d86d-252551dd9169"
      },
      "source": [
        "model_deaths = Sequential()\n",
        "model_deaths.add(TimeDistributed(Conv1D(filters=64, kernel_size=1, activation='relu'), input_shape=(None, n_steps, n_features)))\n",
        "model_deaths.add(TimeDistributed(MaxPooling1D(pool_size=2)))\n",
        "model_deaths.add(TimeDistributed(Flatten()))\n",
        "model_deaths.add(LSTM(50, activation='relu', return_sequences=True))\n",
        "model_deaths.add(LSTM(20, activation='relu', return_sequences=True))\n",
        "model_deaths.add(LSTM(10, activation='relu'))\n",
        "model_deaths.add(Dense(1))\n",
        "model_deaths.compile(optimizer='adam', loss='mse')"
      ],
      "execution_count": 43,
      "outputs": [
        {
          "output_type": "stream",
          "text": [
            "WARNING:tensorflow:Layer lstm_24 will not use cuDNN kernel since it doesn't meet the cuDNN kernel criteria. It will use generic GPU kernel as fallback when running on GPU\n",
            "WARNING:tensorflow:Layer lstm_25 will not use cuDNN kernel since it doesn't meet the cuDNN kernel criteria. It will use generic GPU kernel as fallback when running on GPU\n",
            "WARNING:tensorflow:Layer lstm_26 will not use cuDNN kernel since it doesn't meet the cuDNN kernel criteria. It will use generic GPU kernel as fallback when running on GPU\n"
          ],
          "name": "stdout"
        }
      ]
    },
    {
      "cell_type": "code",
      "metadata": {
        "id": "DBVr9YOdESi0",
        "colab": {
          "base_uri": "https://localhost:8080/"
        },
        "outputId": "e60c1430-7720-45a7-b5bf-cdac4d2cb65f"
      },
      "source": [
        "# fit model_deaths\n",
        "model_deaths.fit(X_deaths, y_deaths, epochs=100, verbose=0)"
      ],
      "execution_count": 44,
      "outputs": [
        {
          "output_type": "execute_result",
          "data": {
            "text/plain": [
              "<tensorflow.python.keras.callbacks.History at 0x7fa13ec2d390>"
            ]
          },
          "metadata": {
            "tags": []
          },
          "execution_count": 44
        }
      ]
    },
    {
      "cell_type": "code",
      "metadata": {
        "id": "E7Bh4f_xEmLM",
        "colab": {
          "base_uri": "https://localhost:8080/"
        },
        "outputId": "03eb47ee-0bf5-41ad-cd7f-c6d8699cc0cd"
      },
      "source": [
        "# demonstrate prediction\n",
        "x_input = array([34, 32, 34, 30])\n",
        "#expected number is 28\n",
        "x_input = x_input.reshape((1, n_seq, n_steps, n_features))\n",
        "yhat = model_deaths.predict(x_input, verbose=0)\n",
        "print(yhat)"
      ],
      "execution_count": 46,
      "outputs": [
        {
          "output_type": "stream",
          "text": [
            "WARNING:tensorflow:5 out of the last 9 calls to <function Model.make_predict_function.<locals>.predict_function at 0x7fa1d6c098c8> triggered tf.function retracing. Tracing is expensive and the excessive number of tracings could be due to (1) creating @tf.function repeatedly in a loop, (2) passing tensors with different shapes, (3) passing Python objects instead of tensors. For (1), please define your @tf.function outside of the loop. For (2), @tf.function has experimental_relax_shapes=True option that relaxes argument shapes that can avoid unnecessary retracing. For (3), please refer to https://www.tensorflow.org/guide/function#controlling_retracing and https://www.tensorflow.org/api_docs/python/tf/function for  more details.\n",
            "[[35.491943]]\n"
          ],
          "name": "stdout"
        }
      ]
    },
    {
      "cell_type": "code",
      "metadata": {
        "id": "tpvCSn6lEx1c"
      },
      "source": [
        ""
      ],
      "execution_count": null,
      "outputs": []
    }
  ]
}